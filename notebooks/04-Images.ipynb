{
 "cells": [
  {
   "cell_type": "markdown",
   "id": "c850a3cb-0904-44f4-8320-226fe37d3e5e",
   "metadata": {},
   "source": [
    "[![Open In Colab](https://colab.research.google.com/assets/colab-badge.svg)](https://colab.research.google.com/github/guiwitz/DSL_CV2_PyTorch/blob/main/notebooks/04-Images.ipynb)\n",
    "# Images, dimensions\n",
    "\n",
    "Until now we have seen very simplified models that can perform regression tasks. However mostly deep learning models are used for more complex tasks such as image classification, segmentation etc. In those cases we have to be careful with the dimensions of our data and model."
   ]
  },
  {
   "cell_type": "markdown",
   "id": "84f91e27-8925-4f7c-b661-aecdea1cb758",
   "metadata": {
    "id": "Dm35UQ76YDRV"
   },
   "source": [
    "## Image classification\n",
    "\n",
    "Until now, we have seen models looking like this:"
   ]
  },
  {
   "cell_type": "code",
   "execution_count": 1,
   "id": "5cce1c54-5910-4d2c-89bb-754b08dd07bc",
   "metadata": {},
   "outputs": [],
   "source": [
    "from torch import nn\n",
    "import torch\n",
    "\n",
    "lin_layer = nn.Linear(in_features=1, out_features=32)\n",
    "lin_layer2 = nn.Linear(in_features=32, out_features=32)\n",
    "lin_layer3 = nn.Linear(in_features=32, out_features=1)\n",
    "model = nn.Sequential(lin_layer, nn.ReLU(), lin_layer2, nn.ReLU(), lin_layer3)"
   ]
  },
  {
   "cell_type": "markdown",
   "id": "4c2533b7-ec15-4f27-99b7-732d7498a539",
   "metadata": {},
   "source": [
    "We used this model for linear regression where we have one input ($x$) and one output ($y$). What do we have to modify if we want to use this model for image classification? For example, we can have a look at examples from the quickdraw dataset:"
   ]
  },
  {
   "cell_type": "code",
   "execution_count": 3,
   "id": "f62c26c4-6004-43ae-a1b9-2256defaf73f",
   "metadata": {},
   "outputs": [
    {
     "data": {
      "image/png": "[encoded data removed]",
      "text/plain": [
       "<Figure size 640x480 with 3 Axes>"
      ]
     },
     "metadata": {},
     "output_type": "display_data"
    }
   ],
   "source": [
    "import skimage\n",
    "import matplotlib.pyplot as plt\n",
    "\n",
    "violin = skimage.io.imread('../data/violin.tif')\n",
    "piano = skimage.io.imread('../data/piano.tif')\n",
    "cello = skimage.io.imread('../data/cello.tif')\n",
    "\n",
    "fig, ax = plt.subplots(1,3)\n",
    "ax[0].imshow(violin)\n",
    "ax[1].imshow(piano)\n",
    "ax[2].imshow(cello);"
   ]
  },
  {
   "cell_type": "markdown",
   "id": "57bfdd70-63de-4c92-9e6f-02aab2877e80",
   "metadata": {},
   "source": [
    "Here the goal is to predict what sort of instrument a person has drawn: violin, piano or cello. So we have three possible categories. We therefore need three outputs for our model, each indicating the probability of a given class. So we have now:"
   ]
  },
  {
   "cell_type": "code",
   "execution_count": 4,
   "id": "805a2b86-d829-4de0-8baa-7bf49ffd8d43",
   "metadata": {},
   "outputs": [],
   "source": [
    "n_cat = 3\n",
    "\n",
    "lin_layer = nn.Linear(in_features=1, out_features=32)\n",
    "lin_layer2 = nn.Linear(in_features=32, out_features=32)\n",
    "lin_layer3 = nn.Linear(in_features=32, out_features=n_cat)\n",
    "model = nn.Sequential(lin_layer, nn.ReLU(), lin_layer2, nn.ReLU(), lin_layer3)"
   ]
  },
  {
   "cell_type": "markdown",
   "id": "51290eec-6e57-4e03-9415-5a7fc28aaec5",
   "metadata": {},
   "source": [
    "The next problem is that we need now to push images through the network, both for training and inference. In other words, whereas before we had a single feature $x$, now we have all pixels of our image as features. The simplest we can do is for the moment to ignore that the image has a 2D structure (neighboring pixels are not random) and simply align all pixels in one long feature vector by flattening the images. Our images above are 28x28 pixels large, i.e. we fill have 784 features as input. So we can update the model again:"
   ]
  },
  {
   "cell_type": "code",
   "execution_count": 5,
   "id": "187d204e-307a-4ca5-9676-ebf7198563d8",
   "metadata": {},
   "outputs": [],
   "source": [
    "n_cat = 3\n",
    "n_features = 784\n",
    "\n",
    "lin_layer = nn.Linear(in_features=n_features, out_features=32)\n",
    "lin_layer2 = nn.Linear(in_features=32, out_features=32)\n",
    "lin_layer3 = nn.Linear(in_features=32, out_features=n_cat)\n",
    "model = nn.Sequential(lin_layer, nn.ReLU(), lin_layer2, nn.ReLU(), lin_layer3)"
   ]
  },
  {
   "cell_type": "markdown",
   "id": "602cb1d8-f957-448d-a177-877b55c3d45f",
   "metadata": {},
   "source": [
    "We can still not push our images through the model: 1. they are still NumPy arrays, and 2. they are still 2D objects. Let's first convert: "
   ]
  },
  {
   "cell_type": "code",
   "execution_count": 6,
   "id": "bf681e46-2cb7-477e-b05f-0259caf823a8",
   "metadata": {},
   "outputs": [
    {
     "data": {
      "text/plain": [
       "torch.float32"
      ]
     },
     "execution_count": 6,
     "metadata": {},
     "output_type": "execute_result"
    }
   ],
   "source": [
    "violin_torch = torch.tensor(violin, dtype=torch.float32)\n",
    "violin_torch.dtype"
   ]
  },
  {
   "cell_type": "code",
   "execution_count": 7,
   "id": "aa3a778e-802d-4d20-bd92-5729475521b4",
   "metadata": {},
   "outputs": [
    {
     "data": {
      "text/plain": [
       "torch.Size([784])"
      ]
     },
     "execution_count": 7,
     "metadata": {},
     "output_type": "execute_result"
    }
   ],
   "source": [
    "violin_torch = violin_torch.flatten()\n",
    "violin_torch.shape"
   ]
  },
  {
   "cell_type": "markdown",
   "id": "179ea1a5-5b59-4d55-8416-4c47f89b4855",
   "metadata": {},
   "source": [
    "Now we can pass it:"
   ]
  },
  {
   "cell_type": "code",
   "execution_count": 8,
   "id": "4658034a-26ed-47d5-8551-25b8f1841900",
   "metadata": {},
   "outputs": [
    {
     "data": {
      "text/plain": [
       "tensor([ 4.9707, -9.3863, -5.8933], grad_fn=<AddBackward0>)"
      ]
     },
     "execution_count": 8,
     "metadata": {},
     "output_type": "execute_result"
    }
   ],
   "source": [
    "model(violin_torch.flatten())"
   ]
  },
  {
   "cell_type": "markdown",
   "id": "bfc972e9-0613-4588-84dd-5be1362ac50f",
   "metadata": {},
   "source": [
    "### Image batches\n",
    "\n",
    "As seen before, here also we can pass multiple images at the same time to the network as \"batch\". In this case we can simply stack our three images together:"
   ]
  },
  {
   "cell_type": "code",
   "execution_count": 9,
   "id": "c03e0cae-0681-49b7-9806-c3278a24522e",
   "metadata": {},
   "outputs": [],
   "source": [
    "violin_torch = torch.tensor(violin, dtype=torch.float32).flatten()\n",
    "piano_torch = torch.tensor(piano, dtype=torch.float32).flatten()\n",
    "cello_torch = torch.tensor(cello, dtype=torch.float32).flatten()\n",
    "\n",
    "image_batch = torch.stack([violin_torch, piano_torch], axis=0)"
   ]
  },
  {
   "cell_type": "code",
   "execution_count": 10,
   "id": "99f5627f-2851-44a7-9efe-e95438a196d8",
   "metadata": {},
   "outputs": [
    {
     "data": {
      "text/plain": [
       "torch.Size([2, 784])"
      ]
     },
     "execution_count": 10,
     "metadata": {},
     "output_type": "execute_result"
    }
   ],
   "source": [
    "image_batch.shape"
   ]
  },
  {
   "cell_type": "code",
   "execution_count": 11,
   "id": "09b633ef-da6e-4ebb-863b-7e28ae0857b5",
   "metadata": {},
   "outputs": [
    {
     "data": {
      "text/plain": [
       "torch.Size([2, 3])"
      ]
     },
     "execution_count": 11,
     "metadata": {},
     "output_type": "execute_result"
    }
   ],
   "source": [
    "model(image_batch).shape"
   ]
  },
  {
   "cell_type": "markdown",
   "id": "a5e20c44-5dc2-432a-b1c1-b61590428151",
   "metadata": {},
   "source": [
    "Our output is indeed composed of a batch of 2, each element having 3 outputs."
   ]
  },
  {
   "cell_type": "markdown",
   "id": "63e96dc1-a648-45e8-80a9-14de17967dad",
   "metadata": {
    "colab": {
     "base_uri": "https://localhost:8080/"
    },
    "id": "pY-wZED3cNBd",
    "outputId": "68e430e0-b16f-4b1f-f2ff-0358eef59503"
   },
   "source": [
    "## Exercise"
   ]
  },
  {
   "cell_type": "markdown",
   "id": "f071cb13-e35c-4ce6-8e5e-714cf3bd7240",
   "metadata": {},
   "source": [
    "Adapt the model developed for exercise 2 to be able to push and image through it and predict the three classes."
   ]
  },
  {
   "cell_type": "code",
   "execution_count": null,
   "id": "9087f7a8-a761-4b05-b11f-2d016ed5c695",
   "metadata": {},
   "outputs": [],
   "source": []
  }
 ],
 "metadata": {
  "kernelspec": {
   "display_name": "Python 3 (ipykernel)",
   "language": "python",
   "name": "python3"
  },
  "language_info": {
   "codemirror_mode": {
    "name": "ipython",
    "version": 3
   },
   "file_extension": ".py",
   "mimetype": "text/x-python",
   "name": "python",
   "nbconvert_exporter": "python",
   "pygments_lexer": "ipython3",
   "version": "3.10.12"
  }
 },
 "nbformat": 4,
 "nbformat_minor": 5
}
