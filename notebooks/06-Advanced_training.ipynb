{
 "cells": [
  {
   "cell_type": "markdown",
   "id": "1430ea14-d0df-4f79-9233-5dbc58d949d6",
   "metadata": {},
   "source": [
    "[![Open In Colab](https://colab.research.google.com/assets/colab-badge.svg)](https://colab.research.google.com/github/guiwitz/DSL_CV2_PyTorch/blob/main/notebooks/06-Advanced_training.ipynb)\n",
    "# Full training\n",
    "\n",
    "We have seen all the essential parts of creating a training loop (optimizer, stepping, zeroing gradient etc.) in a previous notebook. It involved many steps that are easy to forget, and also ignored most of the data-related steps:\n",
    "\n",
    "- correctly batching the data and running training over the entire dataset\n",
    "- keeping some data for validation\n",
    "- running quality checks during training etc.\n",
    "\n",
    "Our training loop will look something like this:\n",
    "\n",
    "```\n",
    "for batch in dataset:\n",
    "    compute a prediction and its loss\n",
    "    do a around of optimization\n",
    "    compute the current accuracy\n",
    "    \n",
    "    every nth iteration:\n",
    "        compute the accuracy on the validation dataset\n",
    "```\n",
    "\n",
    "Several higher level libraries simplify writing this loop. We use here the PyTorch-lightning library which sticks very closely to PyTorch but brings many simplifications.\n",
    "\n",
    "The idea is essentially to skip having to write loops. Instead, we'll just specify what is supposed to happen at each iteration (e.g. compute accuracy), provide a dataloader and PyTorch-lightning will take care for us to go over all batches, zero the optimizer etc. Here we have to create a model again by subclassing. However here we use the specialized ```LightningModule```."
   ]
  },
  {
   "cell_type": "code",
   "execution_count": 1,
   "id": "bdc99307-5ded-48d7-9b92-bfceb73da46f",
   "metadata": {},
   "outputs": [
    {
     "name": "stderr",
     "output_type": "stream",
     "text": [
      "/Users/gw18g940/mambaforge/envs/dslpytorch/lib/python3.10/site-packages/tqdm/auto.py:21: TqdmWarning: IProgress not found. Please update jupyter and ipywidgets. See https://ipywidgets.readthedocs.io/en/stable/user_install.html\n",
      "  from .autonotebook import tqdm as notebook_tqdm\n"
     ]
    }
   ],
   "source": [
    "import pytorch_lightning as pl\n",
    "import torch\n",
    "from torch import nn\n",
    "import torch.nn.functional as F"
   ]
  },
  {
   "cell_type": "code",
   "execution_count": 2,
   "id": "a893d9e9-6aa9-4de7-9bf2-3ddb34b78fcc",
   "metadata": {},
   "outputs": [],
   "source": [
    "class Mynetwork_pl(pl.LightningModule):\n",
    "    def __init__(self, input_size, num_categories):\n",
    "        super(Mynetwork_pl, self).__init__()\n",
    "        \n",
    "        # define e.g. layers here e.g.\n",
    "        self.layer1 = nn.Linear(input_size, 10)\n",
    "        self.layer2 = nn.Linear(10, num_categories)\n",
    "        \n",
    "        self.loss = nn.CrossEntropyLoss()\n",
    "\n",
    "    def forward(self, x):\n",
    "        \n",
    "        # flatten the input\n",
    "        x = x.flatten(start_dim=1)\n",
    "        # define the sequence of operations in the network including e.g. activations\n",
    "        x = F.relu(self.layer1(x))\n",
    "        x = self.layer2(x)\n",
    "        \n",
    "        return x\n",
    "    \n",
    "    def training_step(self, batch, batch_idx):\n",
    "        \n",
    "        x, y = batch\n",
    "        output = self(x)\n",
    "        loss = self.loss(output, y)\n",
    "        \n",
    "        self.log('loss', loss, on_epoch=True, prog_bar=True, logger=True)\n",
    "\n",
    "        return loss\n",
    "    \n",
    "    def validation_step(self, batch, batch_idx):\n",
    "        \n",
    "        x, y = batch\n",
    "        output = self(x)\n",
    "        accuracy = (torch.argmax(output,dim=1) == y).sum()/len(y)\n",
    "\n",
    "        self.log('accuracy', accuracy, on_epoch=True, prog_bar=True, logger=True)\n",
    "        \n",
    "        return accuracy\n",
    "        \n",
    "    def configure_optimizers(self):\n",
    "        return torch.optim.Adam(self.parameters(), lr=1e-3)\n"
   ]
  },
  {
   "cell_type": "code",
   "execution_count": 3,
   "id": "d57a5190-17d8-40e1-96a7-8cacfc197f54",
   "metadata": {},
   "outputs": [],
   "source": [
    "if 'model' in locals():\n",
    "    del model\n",
    "model = Mynetwork_pl(1024, 2)"
   ]
  },
  {
   "cell_type": "markdown",
   "id": "7864124a-8cfe-4788-981e-776404388568",
   "metadata": {},
   "source": [
    "We see that we have now added the loss definition in the ```__init__``` function and just added three functions:\n",
    "- ```training_step``` that says what happens at each training step: computing and returning the loss\n",
    "- ```validation_step``` that says what happens at each validation step: compute the accuracy\n",
    "- finally the optimizer is defined in ```configure_optimizers```"
   ]
  },
  {
   "cell_type": "markdown",
   "id": "9152ba59-f175-4f84-a310-833c58422c9c",
   "metadata": {},
   "source": [
    "## Dataloader\n",
    "\n",
    "We recreate our simple dataloader for circles and triangles:"
   ]
  },
  {
   "cell_type": "code",
   "execution_count": 4,
   "id": "924c54ef-e322-4e08-98f6-45624bbc2bed",
   "metadata": {},
   "outputs": [],
   "source": [
    "import torchvision\n",
    "from torch.utils.data import Dataset, DataLoader\n",
    "from pathlib import Path\n",
    "import pandas as pd\n",
    "from torch.utils.data import random_split\n",
    "import skimage\n",
    "\n",
    "transforms = torchvision.transforms.Compose([\n",
    "    torchvision.transforms.ToTensor(),\n",
    "    torchvision.transforms.RandomRotation(20)\n",
    "])\n",
    "\n",
    "class Tricircle(Dataset):\n",
    "    def __init__(self, image_path, labels, transform=None):\n",
    "        super(Tricircle, self).__init__()\n",
    "        self.image_path = image_path\n",
    "        self.labels = labels\n",
    "        self.transform = transform\n",
    "\n",
    "    def __getitem__(self, index):\n",
    "        \n",
    "        x = skimage.io.imread(image_path.joinpath(f'image_{index}.tif'))\n",
    "        if self.transform is not None:\n",
    "            x = self.transform(x)\n",
    "        y = torch.tensor(self.labels['class'].values[index])\n",
    "        \n",
    "        return x, y\n",
    "\n",
    "    def __len__(self):\n",
    "\n",
    "        return len(self.labels)\n",
    "\n",
    "image_path = Path('../data/triangles_circles/images/')\n",
    "labels = pd.read_csv('../data/triangles_circles/triangles_circles.csv')\n",
    "tridata = Tricircle(image_path=image_path, labels=labels, transform=transforms)\n",
    "\n",
    "test_size = int(0.8 * len(tridata))\n",
    "valid_size = len(tridata)-test_size\n",
    "\n",
    "train_data, valid_data = random_split(tridata, [test_size, valid_size])\n",
    "\n",
    "train_loader = DataLoader(train_data, batch_size=10)\n",
    "validation_loader = DataLoader(valid_data, batch_size=10)"
   ]
  },
  {
   "cell_type": "code",
   "execution_count": 5,
   "id": "e34776d8-76ef-4711-9035-679bbda184ce",
   "metadata": {},
   "outputs": [],
   "source": [
    "im_batch, label_batch = next(iter(validation_loader))"
   ]
  },
  {
   "cell_type": "code",
   "execution_count": 6,
   "id": "b22957a9-dd80-4690-9cdd-d7d1be9ac293",
   "metadata": {},
   "outputs": [
    {
     "data": {
      "text/plain": [
       "torch.Size([10, 1, 32, 32])"
      ]
     },
     "execution_count": 6,
     "metadata": {},
     "output_type": "execute_result"
    }
   ],
   "source": [
    "im_batch.shape"
   ]
  },
  {
   "cell_type": "code",
   "execution_count": 7,
   "id": "79704955-b206-4510-9022-1176de7371f8",
   "metadata": {},
   "outputs": [
    {
     "data": {
      "text/plain": [
       "40"
      ]
     },
     "execution_count": 7,
     "metadata": {},
     "output_type": "execute_result"
    }
   ],
   "source": [
    "valid_size"
   ]
  },
  {
   "cell_type": "markdown",
   "id": "bb0db890-fcf5-4f69-abc4-7673c282407d",
   "metadata": {},
   "source": [
    "## Training\n",
    "\n",
    "Now we can finally train the network. For that we use a lightning ```Trainer``` which is the object that will perform the loops, batching etc. We only have to specify how many times we want to go over the entire dataset (epochs):"
   ]
  },
  {
   "cell_type": "code",
   "execution_count": 8,
   "id": "f538ab62-64c1-45ea-ac89-b534990d94a4",
   "metadata": {},
   "outputs": [],
   "source": [
    "from pytorch_lightning.trainer import Trainer"
   ]
  },
  {
   "cell_type": "code",
   "execution_count": 9,
   "id": "c698b5ae-93c7-4e38-9378-cbe6b6f4aa43",
   "metadata": {},
   "outputs": [
    {
     "name": "stderr",
     "output_type": "stream",
     "text": [
      "GPU available: True (mps), used: True\n",
      "TPU available: False, using: 0 TPU cores\n",
      "IPU available: False, using: 0 IPUs\n",
      "HPU available: False, using: 0 HPUs\n",
      "/Users/gw18g940/mambaforge/envs/dslpytorch/lib/python3.10/site-packages/pytorch_lightning/trainer/connectors/logger_connector/logger_connector.py:67: UserWarning: Starting from v1.9.0, `tensorboardX` has been removed as a dependency of the `pytorch_lightning` package, due to potential conflicts with other packages in the ML ecosystem. For this reason, `logger=True` will use `CSVLogger` as the default logger, unless the `tensorboard` or `tensorboardX` packages are found. Please `pip install lightning[extra]` or one of them to enable TensorBoard support by default\n",
      "  warning_cache.warn(\n"
     ]
    }
   ],
   "source": [
    "trainer = pl.Trainer(max_epochs=30, enable_progress_bar=True)\n",
    "#trainer = pl.Trainer(max_epochs=10), accelerator='gpu') #on Colab or GPU\n",
    "#trainer = pl.Trainer(max_epochs=10), accelerator='mps') #on mac m1"
   ]
  },
  {
   "cell_type": "markdown",
   "id": "613f5865-527e-4a89-b3eb-c785706e2b33",
   "metadata": {},
   "source": [
    "Then we can run the training by specifying which dataset to use and which model:"
   ]
  },
  {
   "cell_type": "code",
   "execution_count": 10,
   "id": "08be613b-7233-42b3-9f72-1abc48896045",
   "metadata": {},
   "outputs": [],
   "source": [
    "train_loader = DataLoader(dataset=train_data, batch_size=20)#, num_workers=0)\n",
    "validation_loader = DataLoader(dataset=valid_data, batch_size=20)#, num_workers=0)"
   ]
  },
  {
   "cell_type": "code",
   "execution_count": 11,
   "id": "02eaf9bf-4dfb-4898-9e13-b0c133905b56",
   "metadata": {},
   "outputs": [
    {
     "name": "stderr",
     "output_type": "stream",
     "text": [
      "\n",
      "  | Name   | Type             | Params\n",
      "--------------------------------------------\n",
      "0 | layer1 | Linear           | 10.2 K\n",
      "1 | layer2 | Linear           | 22    \n",
      "2 | loss   | CrossEntropyLoss | 0     \n",
      "--------------------------------------------\n",
      "10.3 K    Trainable params\n",
      "0         Non-trainable params\n",
      "10.3 K    Total params\n",
      "0.041     Total estimated model params size (MB)\n"
     ]
    },
    {
     "name": "stdout",
     "output_type": "stream",
     "text": [
      "Sanity Checking: 0it [00:00, ?it/s]"
     ]
    },
    {
     "name": "stderr",
     "output_type": "stream",
     "text": [
      "/Users/gw18g940/mambaforge/envs/dslpytorch/lib/python3.10/site-packages/pytorch_lightning/trainer/connectors/data_connector.py:442: PossibleUserWarning: The dataloader, val_dataloader, does not have many workers which may be a bottleneck. Consider increasing the value of the `num_workers` argument` (try 8 which is the number of cpus on this machine) in the `DataLoader` init to improve performance.\n",
      "  rank_zero_warn(\n"
     ]
    },
    {
     "name": "stdout",
     "output_type": "stream",
     "text": [
      "                                                                                                  "
     ]
    },
    {
     "name": "stderr",
     "output_type": "stream",
     "text": [
      "/Users/gw18g940/mambaforge/envs/dslpytorch/lib/python3.10/site-packages/pytorch_lightning/trainer/connectors/data_connector.py:442: PossibleUserWarning: The dataloader, train_dataloader, does not have many workers which may be a bottleneck. Consider increasing the value of the `num_workers` argument` (try 8 which is the number of cpus on this machine) in the `DataLoader` init to improve performance.\n",
      "  rank_zero_warn(\n",
      "/Users/gw18g940/mambaforge/envs/dslpytorch/lib/python3.10/site-packages/pytorch_lightning/loops/fit_loop.py:281: PossibleUserWarning: The number of training batches (8) is smaller than the logging interval Trainer(log_every_n_steps=50). Set a lower value for log_every_n_steps if you want to see logs for the training epoch.\n",
      "  rank_zero_warn(\n"
     ]
    },
    {
     "name": "stdout",
     "output_type": "stream",
     "text": [
      "Epoch 0: 100%|███████████████████████████| 8/8 [00:01<00:00,  5.32it/s, v_num=16, loss_step=0.612]\n",
      "Validation: 0it [00:00, ?it/s]\u001b[A\n",
      "Validation:   0%|                                                           | 0/2 [00:00<?, ?it/s]\u001b[A\n",
      "Validation DataLoader 0:   0%|                                              | 0/2 [00:00<?, ?it/s]\u001b[A\n",
      "Validation DataLoader 0:  50%|██████████████████▌                  | 1/2 [00:00<00:00, 240.17it/s]\u001b[A\n",
      "Epoch 0: 100%|███████████| 8/8 [00:01<00:00,  5.19it/s, v_num=16, loss_step=0.612, accuracy=0.750]\u001b[A\n",
      "Epoch 1: 100%|█| 8/8 [00:00<00:00, 71.67it/s, v_num=16, loss_step=0.576, accuracy=0.750, loss_epoc\u001b[A\n",
      "Validation: 0it [00:00, ?it/s]\u001b[A\n",
      "Validation:   0%|                                                           | 0/2 [00:00<?, ?it/s]\u001b[A\n",
      "Validation DataLoader 0:   0%|                                              | 0/2 [00:00<?, ?it/s]\u001b[A\n",
      "Validation DataLoader 0:  50%|██████████████████▌                  | 1/2 [00:00<00:00, 201.82it/s]\u001b[A\n",
      "Epoch 1: 100%|█| 8/8 [00:00<00:00, 44.21it/s, v_num=16, loss_step=0.576, accuracy=0.750, loss_epoc\u001b[A\n",
      "Epoch 2: 100%|█| 8/8 [00:00<00:00, 67.94it/s, v_num=16, loss_step=0.535, accuracy=0.750, loss_epoc\u001b[A\n",
      "Validation: 0it [00:00, ?it/s]\u001b[A\n",
      "Validation:   0%|                                                           | 0/2 [00:00<?, ?it/s]\u001b[A\n",
      "Validation DataLoader 0:   0%|                                              | 0/2 [00:00<?, ?it/s]\u001b[A\n",
      "Validation DataLoader 0:  50%|██████████████████▌                  | 1/2 [00:00<00:00, 265.95it/s]\u001b[A\n",
      "Epoch 2: 100%|█| 8/8 [00:00<00:00, 52.76it/s, v_num=16, loss_step=0.535, accuracy=0.800, loss_epoc\u001b[A\n",
      "Epoch 3: 100%|█| 8/8 [00:00<00:00, 70.49it/s, v_num=16, loss_step=0.488, accuracy=0.800, loss_epoc\u001b[A\n",
      "Validation: 0it [00:00, ?it/s]\u001b[A\n",
      "Validation:   0%|                                                           | 0/2 [00:00<?, ?it/s]\u001b[A\n",
      "Validation DataLoader 0:   0%|                                              | 0/2 [00:00<?, ?it/s]\u001b[A\n",
      "Validation DataLoader 0:  50%|██████████████████▌                  | 1/2 [00:00<00:00, 238.04it/s]\u001b[A\n",
      "Epoch 3: 100%|█| 8/8 [00:00<00:00, 54.54it/s, v_num=16, loss_step=0.488, accuracy=0.750, loss_epoc\u001b[A\n",
      "Epoch 4: 100%|█| 8/8 [00:00<00:00, 70.27it/s, v_num=16, loss_step=0.465, accuracy=0.750, loss_epoc\u001b[A\n",
      "Validation: 0it [00:00, ?it/s]\u001b[A\n",
      "Validation:   0%|                                                           | 0/2 [00:00<?, ?it/s]\u001b[A\n",
      "Validation DataLoader 0:   0%|                                              | 0/2 [00:00<?, ?it/s]\u001b[A\n",
      "Validation DataLoader 0:  50%|██████████████████▌                  | 1/2 [00:00<00:00, 200.47it/s]\u001b[A\n",
      "Epoch 4: 100%|█| 8/8 [00:00<00:00, 53.72it/s, v_num=16, loss_step=0.465, accuracy=0.850, loss_epoc\u001b[A\n",
      "Epoch 5: 100%|█| 8/8 [00:00<00:00, 70.18it/s, v_num=16, loss_step=0.449, accuracy=0.850, loss_epoc\u001b[A\n",
      "Validation: 0it [00:00, ?it/s]\u001b[A\n",
      "Validation:   0%|                                                           | 0/2 [00:00<?, ?it/s]\u001b[A\n",
      "Validation DataLoader 0:   0%|                                              | 0/2 [00:00<?, ?it/s]\u001b[A\n",
      "Validation DataLoader 0:  50%|██████████████████▌                  | 1/2 [00:00<00:00, 260.74it/s]\u001b[A\n",
      "Epoch 5: 100%|█| 8/8 [00:00<00:00, 54.37it/s, v_num=16, loss_step=0.449, accuracy=0.675, loss_epoc\u001b[A\n",
      "Epoch 6: 100%|█| 8/8 [00:00<00:00, 52.27it/s, v_num=16, loss_step=0.421, accuracy=0.675, loss_epoc\u001b[A\n",
      "Validation: 0it [00:00, ?it/s]\u001b[A\n",
      "Validation:   0%|                                                           | 0/2 [00:00<?, ?it/s]\u001b[A\n",
      "Validation DataLoader 0:   0%|                                              | 0/2 [00:00<?, ?it/s]\u001b[A\n",
      "Validation DataLoader 0:  50%|██████████████████▌                  | 1/2 [00:00<00:00, 253.16it/s]\u001b[A\n",
      "Epoch 6: 100%|█| 8/8 [00:00<00:00, 42.43it/s, v_num=16, loss_step=0.421, accuracy=0.775, loss_epoc\u001b[A\n",
      "Epoch 7: 100%|█| 8/8 [00:00<00:00, 69.49it/s, v_num=16, loss_step=0.405, accuracy=0.775, loss_epoc\u001b[A\n",
      "Validation: 0it [00:00, ?it/s]\u001b[A\n",
      "Validation:   0%|                                                           | 0/2 [00:00<?, ?it/s]\u001b[A\n",
      "Validation DataLoader 0:   0%|                                              | 0/2 [00:00<?, ?it/s]\u001b[A\n",
      "Validation DataLoader 0:  50%|██████████████████▌                  | 1/2 [00:00<00:00, 293.60it/s]\u001b[A\n",
      "Epoch 7: 100%|█| 8/8 [00:00<00:00, 53.35it/s, v_num=16, loss_step=0.405, accuracy=0.775, loss_epoc\u001b[A\n",
      "Epoch 8: 100%|█| 8/8 [00:00<00:00, 70.38it/s, v_num=16, loss_step=0.374, accuracy=0.775, loss_epoc\u001b[A\n",
      "Validation: 0it [00:00, ?it/s]\u001b[A\n",
      "Validation:   0%|                                                           | 0/2 [00:00<?, ?it/s]\u001b[A\n",
      "Validation DataLoader 0:   0%|                                              | 0/2 [00:00<?, ?it/s]\u001b[A\n",
      "Validation DataLoader 0:  50%|██████████████████▌                  | 1/2 [00:00<00:00, 272.20it/s]\u001b[A\n",
      "Epoch 8: 100%|█| 8/8 [00:00<00:00, 53.90it/s, v_num=16, loss_step=0.374, accuracy=0.800, loss_epoc\u001b[A\n",
      "Epoch 9: 100%|█| 8/8 [00:00<00:00, 69.46it/s, v_num=16, loss_step=0.362, accuracy=0.800, loss_epoc\u001b[A\n",
      "Validation: 0it [00:00, ?it/s]\u001b[A\n",
      "Validation:   0%|                                                           | 0/2 [00:00<?, ?it/s]\u001b[A\n",
      "Validation DataLoader 0:   0%|                                              | 0/2 [00:00<?, ?it/s]\u001b[A\n",
      "Validation DataLoader 0:  50%|██████████████████▌                  | 1/2 [00:00<00:00, 250.83it/s]\u001b[A\n",
      "Epoch 9: 100%|█| 8/8 [00:00<00:00, 53.04it/s, v_num=16, loss_step=0.362, accuracy=0.800, loss_epoc\u001b[A\n",
      "Epoch 10: 100%|█| 8/8 [00:00<00:00, 70.66it/s, v_num=16, loss_step=0.358, accuracy=0.800, loss_epo\u001b[A\n",
      "Validation: 0it [00:00, ?it/s]\u001b[A\n",
      "Validation:   0%|                                                           | 0/2 [00:00<?, ?it/s]\u001b[A\n",
      "Validation DataLoader 0:   0%|                                              | 0/2 [00:00<?, ?it/s]\u001b[A\n",
      "Validation DataLoader 0:  50%|██████████████████▌                  | 1/2 [00:00<00:00, 229.30it/s]\u001b[A\n",
      "Epoch 10: 100%|█| 8/8 [00:00<00:00, 53.70it/s, v_num=16, loss_step=0.358, accuracy=0.775, loss_epo\u001b[A\n",
      "Epoch 11: 100%|█| 8/8 [00:00<00:00, 70.31it/s, v_num=16, loss_step=0.334, accuracy=0.775, loss_epo\u001b[A\n",
      "Validation: 0it [00:00, ?it/s]\u001b[A\n",
      "Validation:   0%|                                                           | 0/2 [00:00<?, ?it/s]\u001b[A\n",
      "Validation DataLoader 0:   0%|                                              | 0/2 [00:00<?, ?it/s]\u001b[A\n",
      "Validation DataLoader 0:  50%|██████████████████▌                  | 1/2 [00:00<00:00, 256.08it/s]\u001b[A\n",
      "Epoch 11: 100%|█| 8/8 [00:00<00:00, 52.96it/s, v_num=16, loss_step=0.334, accuracy=0.750, loss_epo\u001b[A\n",
      "Epoch 12: 100%|█| 8/8 [00:00<00:00, 66.60it/s, v_num=16, loss_step=0.352, accuracy=0.750, loss_epo\u001b[A\n",
      "Validation: 0it [00:00, ?it/s]\u001b[A\n",
      "Validation:   0%|                                                           | 0/2 [00:00<?, ?it/s]\u001b[A\n",
      "Validation DataLoader 0:   0%|                                              | 0/2 [00:00<?, ?it/s]\u001b[A\n",
      "Validation DataLoader 0:  50%|██████████████████▌                  | 1/2 [00:00<00:00, 206.06it/s]\u001b[A\n",
      "Epoch 12: 100%|█| 8/8 [00:00<00:00, 51.51it/s, v_num=16, loss_step=0.352, accuracy=0.800, loss_epo\u001b[A\n",
      "Epoch 13: 100%|█| 8/8 [00:00<00:00, 66.60it/s, v_num=16, loss_step=0.293, accuracy=0.800, loss_epo\u001b[A\n",
      "Validation: 0it [00:00, ?it/s]\u001b[A\n",
      "Validation:   0%|                                                           | 0/2 [00:00<?, ?it/s]\u001b[A\n",
      "Validation DataLoader 0:   0%|                                              | 0/2 [00:00<?, ?it/s]\u001b[A\n",
      "Validation DataLoader 0:  50%|██████████████████▌                  | 1/2 [00:00<00:00, 266.81it/s]\u001b[A\n",
      "Epoch 13: 100%|█| 8/8 [00:00<00:00, 52.02it/s, v_num=16, loss_step=0.293, accuracy=0.800, loss_epo\u001b[A\n",
      "Epoch 14: 100%|█| 8/8 [00:00<00:00, 71.28it/s, v_num=16, loss_step=0.317, accuracy=0.800, loss_epo\u001b[A\n",
      "Validation: 0it [00:00, ?it/s]\u001b[A\n",
      "Validation:   0%|                                                           | 0/2 [00:00<?, ?it/s]\u001b[A\n",
      "Validation DataLoader 0:   0%|                                              | 0/2 [00:00<?, ?it/s]\u001b[A\n",
      "Validation DataLoader 0:  50%|██████████████████▌                  | 1/2 [00:00<00:00, 301.40it/s]\u001b[A\n",
      "Epoch 14: 100%|█| 8/8 [00:00<00:00, 54.96it/s, v_num=16, loss_step=0.317, accuracy=0.750, loss_epo\u001b[A\n",
      "Epoch 15: 100%|█| 8/8 [00:00<00:00, 70.39it/s, v_num=16, loss_step=0.399, accuracy=0.750, loss_epo\u001b[A\n",
      "Validation: 0it [00:00, ?it/s]\u001b[A\n",
      "Validation:   0%|                                                           | 0/2 [00:00<?, ?it/s]\u001b[A\n",
      "Validation DataLoader 0:   0%|                                              | 0/2 [00:00<?, ?it/s]\u001b[A\n",
      "Validation DataLoader 0:  50%|██████████████████▌                  | 1/2 [00:00<00:00, 222.09it/s]\u001b[A\n",
      "Epoch 15: 100%|█| 8/8 [00:00<00:00, 53.75it/s, v_num=16, loss_step=0.399, accuracy=0.800, loss_epo\u001b[A\n",
      "Epoch 16: 100%|█| 8/8 [00:00<00:00, 69.72it/s, v_num=16, loss_step=0.340, accuracy=0.800, loss_epo\u001b[A\n",
      "Validation: 0it [00:00, ?it/s]\u001b[A\n",
      "Validation:   0%|                                                           | 0/2 [00:00<?, ?it/s]\u001b[A\n",
      "Validation DataLoader 0:   0%|                                              | 0/2 [00:00<?, ?it/s]\u001b[A\n",
      "Validation DataLoader 0:  50%|██████████████████▌                  | 1/2 [00:00<00:00, 213.18it/s]\u001b[A\n",
      "Epoch 16: 100%|█| 8/8 [00:00<00:00, 53.26it/s, v_num=16, loss_step=0.340, accuracy=0.825, loss_epo\u001b[A\n",
      "Epoch 17: 100%|█| 8/8 [00:00<00:00, 66.69it/s, v_num=16, loss_step=0.275, accuracy=0.825, loss_epo\u001b[A\n",
      "Validation: 0it [00:00, ?it/s]\u001b[A\n",
      "Validation:   0%|                                                           | 0/2 [00:00<?, ?it/s]\u001b[A\n",
      "Validation DataLoader 0:   0%|                                              | 0/2 [00:00<?, ?it/s]\u001b[A\n",
      "Validation DataLoader 0:  50%|██████████████████▌                  | 1/2 [00:00<00:00, 270.11it/s]\u001b[A\n",
      "Epoch 17: 100%|█| 8/8 [00:00<00:00, 52.58it/s, v_num=16, loss_step=0.275, accuracy=0.775, loss_epo\u001b[A\n",
      "Epoch 18: 100%|█| 8/8 [00:00<00:00, 68.22it/s, v_num=16, loss_step=0.313, accuracy=0.775, loss_epo\u001b[A\n",
      "Validation: 0it [00:00, ?it/s]\u001b[A\n",
      "Validation:   0%|                                                           | 0/2 [00:00<?, ?it/s]\u001b[A\n",
      "Validation DataLoader 0:   0%|                                              | 0/2 [00:00<?, ?it/s]\u001b[A\n",
      "Validation DataLoader 0:  50%|██████████████████▌                  | 1/2 [00:00<00:00, 265.82it/s]\u001b[A\n",
      "Epoch 18: 100%|█| 8/8 [00:00<00:00, 52.80it/s, v_num=16, loss_step=0.313, accuracy=0.825, loss_epo\u001b[A\n",
      "Epoch 19: 100%|█| 8/8 [00:00<00:00, 68.44it/s, v_num=16, loss_step=0.303, accuracy=0.825, loss_epo\u001b[A\n",
      "Validation: 0it [00:00, ?it/s]\u001b[A\n",
      "Validation:   0%|                                                           | 0/2 [00:00<?, ?it/s]\u001b[A\n",
      "Validation DataLoader 0:   0%|                                              | 0/2 [00:00<?, ?it/s]\u001b[A\n",
      "Validation DataLoader 0:  50%|██████████████████▌                  | 1/2 [00:00<00:00, 280.18it/s]\u001b[A\n",
      "Epoch 19: 100%|█| 8/8 [00:00<00:00, 46.25it/s, v_num=16, loss_step=0.303, accuracy=0.825, loss_epo\u001b[A\n",
      "Epoch 20: 100%|█| 8/8 [00:00<00:00, 63.63it/s, v_num=16, loss_step=0.343, accuracy=0.825, loss_epo\u001b[A\n",
      "Validation: 0it [00:00, ?it/s]\u001b[A\n",
      "Validation:   0%|                                                           | 0/2 [00:00<?, ?it/s]\u001b[A\n",
      "Validation DataLoader 0:   0%|                                              | 0/2 [00:00<?, ?it/s]\u001b[A\n",
      "Validation DataLoader 0:  50%|██████████████████▌                  | 1/2 [00:00<00:00, 252.52it/s]\u001b[A\n",
      "Epoch 20: 100%|█| 8/8 [00:00<00:00, 50.22it/s, v_num=16, loss_step=0.343, accuracy=0.850, loss_epo\u001b[A\n",
      "Epoch 21: 100%|█| 8/8 [00:00<00:00, 70.17it/s, v_num=16, loss_step=0.256, accuracy=0.850, loss_epo\u001b[A\n",
      "Validation: 0it [00:00, ?it/s]\u001b[A\n",
      "Validation:   0%|                                                           | 0/2 [00:00<?, ?it/s]\u001b[A\n",
      "Validation DataLoader 0:   0%|                                              | 0/2 [00:00<?, ?it/s]\u001b[A\n",
      "Validation DataLoader 0:  50%|██████████████████▌                  | 1/2 [00:00<00:00, 250.18it/s]\u001b[A\n",
      "Epoch 21: 100%|█| 8/8 [00:00<00:00, 54.11it/s, v_num=16, loss_step=0.256, accuracy=0.775, loss_epo\u001b[A\n",
      "Epoch 22: 100%|█| 8/8 [00:00<00:00, 69.92it/s, v_num=16, loss_step=0.266, accuracy=0.775, loss_epo\u001b[A\n",
      "Validation: 0it [00:00, ?it/s]\u001b[A\n",
      "Validation:   0%|                                                           | 0/2 [00:00<?, ?it/s]\u001b[A\n",
      "Validation DataLoader 0:   0%|                                              | 0/2 [00:00<?, ?it/s]\u001b[A\n",
      "Validation DataLoader 0:  50%|██████████████████▌                  | 1/2 [00:00<00:00, 280.11it/s]\u001b[A\n",
      "Epoch 22: 100%|█| 8/8 [00:00<00:00, 53.77it/s, v_num=16, loss_step=0.266, accuracy=0.800, loss_epo\u001b[A\n",
      "Epoch 23: 100%|█| 8/8 [00:00<00:00, 68.93it/s, v_num=16, loss_step=0.258, accuracy=0.800, loss_epo\u001b[A\n",
      "Validation: 0it [00:00, ?it/s]\u001b[A\n",
      "Validation:   0%|                                                           | 0/2 [00:00<?, ?it/s]\u001b[A\n",
      "Validation DataLoader 0:   0%|                                              | 0/2 [00:00<?, ?it/s]\u001b[A\n",
      "Validation DataLoader 0:  50%|██████████████████▌                  | 1/2 [00:00<00:00, 274.25it/s]\u001b[A\n",
      "Epoch 23: 100%|█| 8/8 [00:00<00:00, 53.09it/s, v_num=16, loss_step=0.258, accuracy=0.800, loss_epo\u001b[A\n",
      "Epoch 24: 100%|█| 8/8 [00:00<00:00, 71.19it/s, v_num=16, loss_step=0.251, accuracy=0.800, loss_epo\u001b[A\n",
      "Validation: 0it [00:00, ?it/s]\u001b[A\n",
      "Validation:   0%|                                                           | 0/2 [00:00<?, ?it/s]\u001b[A\n",
      "Validation DataLoader 0:   0%|                                              | 0/2 [00:00<?, ?it/s]\u001b[A\n",
      "Validation DataLoader 0:  50%|██████████████████▌                  | 1/2 [00:00<00:00, 243.67it/s]\u001b[A\n",
      "Epoch 24: 100%|█| 8/8 [00:00<00:00, 53.82it/s, v_num=16, loss_step=0.251, accuracy=0.775, loss_epo\u001b[A\n",
      "Epoch 25: 100%|█| 8/8 [00:00<00:00, 69.44it/s, v_num=16, loss_step=0.349, accuracy=0.775, loss_epo\u001b[A\n",
      "Validation: 0it [00:00, ?it/s]\u001b[A\n",
      "Validation:   0%|                                                           | 0/2 [00:00<?, ?it/s]\u001b[A\n",
      "Validation DataLoader 0:   0%|                                              | 0/2 [00:00<?, ?it/s]\u001b[A\n",
      "Validation DataLoader 0:  50%|██████████████████▌                  | 1/2 [00:00<00:00, 222.71it/s]\u001b[A\n",
      "Epoch 25: 100%|█| 8/8 [00:00<00:00, 52.86it/s, v_num=16, loss_step=0.349, accuracy=0.775, loss_epo\u001b[A\n",
      "Epoch 26: 100%|█| 8/8 [00:00<00:00, 67.21it/s, v_num=16, loss_step=0.310, accuracy=0.775, loss_epo\u001b[A\n",
      "Validation: 0it [00:00, ?it/s]\u001b[A\n",
      "Validation:   0%|                                                           | 0/2 [00:00<?, ?it/s]\u001b[A\n",
      "Validation DataLoader 0:   0%|                                              | 0/2 [00:00<?, ?it/s]\u001b[A\n",
      "Validation DataLoader 0:  50%|██████████████████▌                  | 1/2 [00:00<00:00, 232.29it/s]\u001b[A\n",
      "Epoch 26: 100%|█| 8/8 [00:00<00:00, 51.79it/s, v_num=16, loss_step=0.310, accuracy=0.850, loss_epo\u001b[A\n",
      "Epoch 27: 100%|█| 8/8 [00:00<00:00, 66.82it/s, v_num=16, loss_step=0.254, accuracy=0.850, loss_epo\u001b[A\n",
      "Validation: 0it [00:00, ?it/s]\u001b[A\n",
      "Validation:   0%|                                                           | 0/2 [00:00<?, ?it/s]\u001b[A\n",
      "Validation DataLoader 0:   0%|                                              | 0/2 [00:00<?, ?it/s]\u001b[A\n",
      "Validation DataLoader 0:  50%|██████████████████▌                  | 1/2 [00:00<00:00, 257.08it/s]\u001b[A\n",
      "Epoch 27: 100%|█| 8/8 [00:00<00:00, 51.45it/s, v_num=16, loss_step=0.254, accuracy=0.850, loss_epo\u001b[A\n",
      "Epoch 28: 100%|█| 8/8 [00:00<00:00, 69.46it/s, v_num=16, loss_step=0.343, accuracy=0.850, loss_epo\u001b[A\n",
      "Validation: 0it [00:00, ?it/s]\u001b[A\n",
      "Validation:   0%|                                                           | 0/2 [00:00<?, ?it/s]\u001b[A\n",
      "Validation DataLoader 0:   0%|                                              | 0/2 [00:00<?, ?it/s]\u001b[A\n",
      "Validation DataLoader 0:  50%|██████████████████▌                  | 1/2 [00:00<00:00, 252.09it/s]\u001b[A\n",
      "Epoch 28: 100%|█| 8/8 [00:00<00:00, 53.26it/s, v_num=16, loss_step=0.343, accuracy=0.775, loss_epo\u001b[A\n",
      "Epoch 29: 100%|█| 8/8 [00:00<00:00, 70.62it/s, v_num=16, loss_step=0.294, accuracy=0.775, loss_epo\u001b[A\n",
      "Validation: 0it [00:00, ?it/s]\u001b[A\n",
      "Validation:   0%|                                                           | 0/2 [00:00<?, ?it/s]\u001b[A\n",
      "Validation DataLoader 0:   0%|                                              | 0/2 [00:00<?, ?it/s]\u001b[A\n",
      "Validation DataLoader 0:  50%|██████████████████▌                  | 1/2 [00:00<00:00, 261.23it/s]\u001b[A\n",
      "Epoch 29: 100%|█| 8/8 [00:00<00:00, 54.95it/s, v_num=16, loss_step=0.294, accuracy=0.900, loss_epo\u001b[A\n",
      "Epoch 29: 100%|█| 8/8 [00:00<00:00, 54.14it/s, v_num=16, loss_step=0.294, accuracy=0.900, loss_epo\u001b[A"
     ]
    },
    {
     "name": "stderr",
     "output_type": "stream",
     "text": [
      "`Trainer.fit` stopped: `max_epochs=30` reached.\n"
     ]
    },
    {
     "name": "stdout",
     "output_type": "stream",
     "text": [
      "Epoch 29: 100%|█| 8/8 [00:00<00:00, 50.67it/s, v_num=16, loss_step=0.294, accuracy=0.900, loss_epo\n"
     ]
    }
   ],
   "source": [
    "trainer.fit(model, train_dataloaders=train_loader, val_dataloaders=validation_loader)"
   ]
  },
  {
   "cell_type": "code",
   "execution_count": 12,
   "id": "713df6f3-cbc7-46a1-b1e5-60ffa8b2138b",
   "metadata": {},
   "outputs": [],
   "source": [
    "val_data, val_label = next(iter(validation_loader))"
   ]
  },
  {
   "cell_type": "code",
   "execution_count": 13,
   "id": "719ac58e-861a-46da-9c37-aa2285cee965",
   "metadata": {},
   "outputs": [
    {
     "data": {
      "text/plain": [
       "tensor([0, 0, 0, 1, 1, 0, 1, 0, 0, 1, 1, 0, 1, 0, 1, 0, 0, 0, 1, 1])"
      ]
     },
     "execution_count": 13,
     "metadata": {},
     "output_type": "execute_result"
    }
   ],
   "source": [
    "model(val_data).argmax(axis=1)"
   ]
  },
  {
   "cell_type": "code",
   "execution_count": 14,
   "id": "f9dbdb48-9057-4c1c-992c-a2fb0aee51f2",
   "metadata": {},
   "outputs": [
    {
     "data": {
      "text/plain": [
       "tensor([0, 0, 0, 1, 1, 0, 1, 0, 0, 0, 1, 0, 1, 0, 1, 0, 0, 1, 1, 1])"
      ]
     },
     "execution_count": 14,
     "metadata": {},
     "output_type": "execute_result"
    }
   ],
   "source": [
    "val_label"
   ]
  },
  {
   "cell_type": "code",
   "execution_count": null,
   "id": "970f6d00-3973-48ef-8ee8-8393aeb96da6",
   "metadata": {},
   "outputs": [],
   "source": []
  }
 ],
 "metadata": {
  "kernelspec": {
   "display_name": "Python 3 (ipykernel)",
   "language": "python",
   "name": "python3"
  },
  "language_info": {
   "codemirror_mode": {
    "name": "ipython",
    "version": 3
   },
   "file_extension": ".py",
   "mimetype": "text/x-python",
   "name": "python",
   "nbconvert_exporter": "python",
   "pygments_lexer": "ipython3",
   "version": "3.10.12"
  }
 },
 "nbformat": 4,
 "nbformat_minor": 5
}
